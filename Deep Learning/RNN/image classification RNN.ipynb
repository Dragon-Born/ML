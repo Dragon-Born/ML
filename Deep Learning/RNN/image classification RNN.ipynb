{
 "cells": [
  {
   "cell_type": "code",
   "execution_count": 16,
   "metadata": {},
   "outputs": [],
   "source": [
    "from keras.layers import Dense, Input, LSTM, SimpleRNN\n",
    "from keras.models import Model\n",
    "from keras.utils.np_utils import to_categorical\n",
    "from keras.datasets import fashion_mnist\n",
    "from keras.optimizers import Adam\n",
    "import numpy as np\n",
    "import matplotlib.pyplot as plt"
   ]
  },
  {
   "cell_type": "code",
   "execution_count": 28,
   "metadata": {},
   "outputs": [],
   "source": [
    "(x_train, y_train), (x_test, y_test) = fashion_mnist.load_data()\n",
    "x_train, x_test = x_train / 255.0, x_test / 255.0"
   ]
  },
  {
   "cell_type": "code",
   "execution_count": null,
   "metadata": {},
   "outputs": [],
   "source": []
  },
  {
   "cell_type": "code",
   "execution_count": 29,
   "metadata": {},
   "outputs": [],
   "source": [
    "input1 = Input(shape=(28,28))\n",
    "x = LSTM(128)(input1)\n",
    "x = Dense(10, activation=\"softmax\")(x)\n",
    "model = Model(input1, x)\n",
    "model.compile(Adam(), loss='sparse_categorical_crossentropy', metrics=['accuracy'])"
   ]
  },
  {
   "cell_type": "code",
   "execution_count": 30,
   "metadata": {},
   "outputs": [
    {
     "name": "stdout",
     "output_type": "stream",
     "text": [
      "Train on 60000 samples, validate on 10000 samples\n",
      "Epoch 1/10\n",
      "60000/60000 [==============================] - 85s 1ms/step - loss: 0.5766 - acc: 0.7850 - val_loss: 0.4273 - val_acc: 0.8444\n",
      "Epoch 2/10\n",
      "60000/60000 [==============================] - 81s 1ms/step - loss: 0.3965 - acc: 0.8537 - val_loss: 0.4026 - val_acc: 0.8489\n",
      "Epoch 3/10\n",
      "60000/60000 [==============================] - 80s 1ms/step - loss: 0.3548 - acc: 0.8691 - val_loss: 0.3766 - val_acc: 0.8539\n",
      "Epoch 4/10\n",
      "60000/60000 [==============================] - 79s 1ms/step - loss: 0.3269 - acc: 0.8789 - val_loss: 0.3387 - val_acc: 0.8734\n",
      "Epoch 5/10\n",
      "60000/60000 [==============================] - 80s 1ms/step - loss: 0.3031 - acc: 0.8858 - val_loss: 0.3204 - val_acc: 0.8793\n",
      "Epoch 6/10\n",
      "60000/60000 [==============================] - 81s 1ms/step - loss: 0.2856 - acc: 0.8931 - val_loss: 0.3207 - val_acc: 0.8844\n",
      "Epoch 7/10\n",
      "60000/60000 [==============================] - 79s 1ms/step - loss: 0.2706 - acc: 0.8979 - val_loss: 0.3086 - val_acc: 0.8862\n",
      "Epoch 8/10\n",
      "60000/60000 [==============================] - 80s 1ms/step - loss: 0.2577 - acc: 0.9026 - val_loss: 0.3018 - val_acc: 0.8875\n",
      "Epoch 9/10\n",
      "60000/60000 [==============================] - 81s 1ms/step - loss: 0.2472 - acc: 0.9073 - val_loss: 0.2900 - val_acc: 0.8956\n",
      "Epoch 10/10\n",
      "60000/60000 [==============================] - 79s 1ms/step - loss: 0.2346 - acc: 0.9113 - val_loss: 0.2894 - val_acc: 0.8940\n"
     ]
    },
    {
     "data": {
      "text/plain": [
       "<keras.callbacks.History at 0x7f809e42f820>"
      ]
     },
     "execution_count": 30,
     "metadata": {},
     "output_type": "execute_result"
    }
   ],
   "source": [
    "model.fit(x_train, y_train, epochs=10, validation_data=(x_test, y_test))"
   ]
  },
  {
   "cell_type": "code",
   "execution_count": null,
   "metadata": {},
   "outputs": [],
   "source": []
  }
 ],
 "metadata": {
  "kernelspec": {
   "display_name": "Python 3",
   "language": "python",
   "name": "python3"
  },
  "language_info": {
   "codemirror_mode": {
    "name": "ipython",
    "version": 3
   },
   "file_extension": ".py",
   "mimetype": "text/x-python",
   "name": "python",
   "nbconvert_exporter": "python",
   "pygments_lexer": "ipython3",
   "version": "3.8.3"
  }
 },
 "nbformat": 4,
 "nbformat_minor": 4
}
