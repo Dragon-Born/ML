{
 "cells": [
  {
   "cell_type": "markdown",
   "metadata": {},
   "source": [
    "Use linear regression for forcasting"
   ]
  },
  {
   "cell_type": "code",
   "execution_count": 47,
   "metadata": {},
   "outputs": [],
   "source": [
    "from keras.layers import Dense, Input\n",
    "from keras.models import Model\n",
    "from keras.optimizers import Adam\n",
    "import numpy as np\n",
    "import matplotlib.pyplot as plt"
   ]
  },
  {
   "cell_type": "code",
   "execution_count": 106,
   "metadata": {},
   "outputs": [],
   "source": [
    "series = np.sin(np.arange(0, 20, 0.1)) + np.random.randn(200)*0.1 # add noise to the sin function"
   ]
  },
  {
   "cell_type": "code",
   "execution_count": 107,
   "metadata": {},
   "outputs": [
    {
     "data": {
      "image/png": "[encoded data removed]",
      "text/plain": [
       "<matplotlib.figure.Figure at 0x7f806c45ef70>"
      ]
     },
     "metadata": {
      "needs_background": "light"
     },
     "output_type": "display_data"
    }
   ],
   "source": [
    "plt.plot(series)\n",
    "plt.show()"
   ]
  },
  {
   "cell_type": "code",
   "execution_count": 108,
   "metadata": {},
   "outputs": [],
   "source": [
    "# build dataset\n",
    "\n",
    "# Predict next value using T past value\n",
    "T = 10\n",
    "\n",
    "X = []\n",
    "Y = []\n",
    "for t in range(len(y) - T):\n",
    "    X.append(series[t:t+T])\n",
    "    Y.append(series[t+T])\n",
    "X = np.array(X)\n",
    "Y = np.array(Y)"
   ]
  },
  {
   "cell_type": "code",
   "execution_count": 109,
   "metadata": {},
   "outputs": [
    {
     "name": "stdout",
     "output_type": "stream",
     "text": [
      "X: (190, 10) Y: (190,)\n"
     ]
    }
   ],
   "source": [
    "print(\"X:\", X.shape, \"Y:\", Y.shape)"
   ]
  },
  {
   "cell_type": "code",
   "execution_count": 110,
   "metadata": {},
   "outputs": [],
   "source": [
    "N = len(X)"
   ]
  },
  {
   "cell_type": "code",
   "execution_count": 111,
   "metadata": {},
   "outputs": [],
   "source": [
    "# build auto regressive linear model\n",
    "\n",
    "input1 = Input((T,))\n",
    "x = Dense(1)(input1)\n",
    "\n",
    "model = Model(input1, x)\n",
    "model.compile(Adam(0.1), loss=\"mse\", metrics=['accuracy'])"
   ]
  },
  {
   "cell_type": "code",
   "execution_count": 112,
   "metadata": {},
   "outputs": [
    {
     "name": "stdout",
     "output_type": "stream",
     "text": [
      "Train on 95 samples, validate on 95 samples\n",
      "Epoch 1/80\n",
      "95/95 [==============================] - 0s 557us/step - loss: 0.7113 - acc: 0.0000e+00 - val_loss: 0.2992 - val_acc: 0.0000e+00\n",
      "Epoch 2/80\n",
      "95/95 [==============================] - 0s 434us/step - loss: 0.4956 - acc: 0.0000e+00 - val_loss: 0.2388 - val_acc: 0.0000e+00\n",
      "Epoch 3/80\n",
      "95/95 [==============================] - 0s 438us/step - loss: 0.1487 - acc: 0.0000e+00 - val_loss: 0.0795 - val_acc: 0.0000e+00\n",
      "Epoch 4/80\n",
      "95/95 [==============================] - 0s 458us/step - loss: 0.1844 - acc: 0.0000e+00 - val_loss: 0.1350 - val_acc: 0.0000e+00\n",
      "Epoch 5/80\n",
      "95/95 [==============================] - 0s 442us/step - loss: 0.1323 - acc: 0.0000e+00 - val_loss: 0.0399 - val_acc: 0.0000e+00\n",
      "Epoch 6/80\n",
      "95/95 [==============================] - 0s 242us/step - loss: 0.0540 - acc: 0.0000e+00 - val_loss: 0.1219 - val_acc: 0.0000e+00\n",
      "Epoch 7/80\n",
      "95/95 [==============================] - 0s 446us/step - loss: 0.1058 - acc: 0.0000e+00 - val_loss: 0.0532 - val_acc: 0.0000e+00\n",
      "Epoch 8/80\n",
      "95/95 [==============================] - 0s 394us/step - loss: 0.0381 - acc: 0.0000e+00 - val_loss: 0.0558 - val_acc: 0.0000e+00\n",
      "Epoch 9/80\n",
      "95/95 [==============================] - 0s 392us/step - loss: 0.0712 - acc: 0.0000e+00 - val_loss: 0.0688 - val_acc: 0.0000e+00\n",
      "Epoch 10/80\n",
      "95/95 [==============================] - 0s 374us/step - loss: 0.0464 - acc: 0.0000e+00 - val_loss: 0.0332 - val_acc: 0.0000e+00\n",
      "Epoch 11/80\n",
      "95/95 [==============================] - 0s 394us/step - loss: 0.0398 - acc: 0.0000e+00 - val_loss: 0.0502 - val_acc: 0.0000e+00\n",
      "Epoch 12/80\n",
      "95/95 [==============================] - 0s 444us/step - loss: 0.0431 - acc: 0.0000e+00 - val_loss: 0.0274 - val_acc: 0.0000e+00\n",
      "Epoch 13/80\n",
      "95/95 [==============================] - 0s 297us/step - loss: 0.0283 - acc: 0.0000e+00 - val_loss: 0.0309 - val_acc: 0.0000e+00\n",
      "Epoch 14/80\n",
      "95/95 [==============================] - 0s 441us/step - loss: 0.0347 - acc: 0.0000e+00 - val_loss: 0.0252 - val_acc: 0.0000e+00\n",
      "Epoch 15/80\n",
      "95/95 [==============================] - 0s 449us/step - loss: 0.0262 - acc: 0.0000e+00 - val_loss: 0.0322 - val_acc: 0.0000e+00\n",
      "Epoch 16/80\n",
      "95/95 [==============================] - 0s 335us/step - loss: 0.0289 - acc: 0.0000e+00 - val_loss: 0.0251 - val_acc: 0.0000e+00\n",
      "Epoch 17/80\n",
      "95/95 [==============================] - 0s 463us/step - loss: 0.0229 - acc: 0.0000e+00 - val_loss: 0.0234 - val_acc: 0.0000e+00\n",
      "Epoch 18/80\n",
      "95/95 [==============================] - 0s 361us/step - loss: 0.0259 - acc: 0.0000e+00 - val_loss: 0.0231 - val_acc: 0.0000e+00\n",
      "Epoch 19/80\n",
      "95/95 [==============================] - 0s 236us/step - loss: 0.0228 - acc: 0.0000e+00 - val_loss: 0.0234 - val_acc: 0.0000e+00\n",
      "Epoch 20/80\n",
      "95/95 [==============================] - 0s 435us/step - loss: 0.0237 - acc: 0.0000e+00 - val_loss: 0.0235 - val_acc: 0.0000e+00\n",
      "Epoch 21/80\n",
      "95/95 [==============================] - 0s 408us/step - loss: 0.0225 - acc: 0.0000e+00 - val_loss: 0.0220 - val_acc: 0.0000e+00\n",
      "Epoch 22/80\n",
      "95/95 [==============================] - 0s 407us/step - loss: 0.0215 - acc: 0.0000e+00 - val_loss: 0.0218 - val_acc: 0.0000e+00\n",
      "Epoch 23/80\n",
      "95/95 [==============================] - 0s 408us/step - loss: 0.0206 - acc: 0.0000e+00 - val_loss: 0.0225 - val_acc: 0.0000e+00\n",
      "Epoch 24/80\n",
      "95/95 [==============================] - 0s 291us/step - loss: 0.0207 - acc: 0.0000e+00 - val_loss: 0.0215 - val_acc: 0.0000e+00\n",
      "Epoch 25/80\n",
      "95/95 [==============================] - 0s 432us/step - loss: 0.0205 - acc: 0.0000e+00 - val_loss: 0.0213 - val_acc: 0.0000e+00\n",
      "Epoch 26/80\n",
      "95/95 [==============================] - 0s 417us/step - loss: 0.0200 - acc: 0.0000e+00 - val_loss: 0.0209 - val_acc: 0.0000e+00\n",
      "Epoch 27/80\n",
      "95/95 [==============================] - 0s 235us/step - loss: 0.0201 - acc: 0.0000e+00 - val_loss: 0.0216 - val_acc: 0.0000e+00\n",
      "Epoch 28/80\n",
      "95/95 [==============================] - 0s 419us/step - loss: 0.0198 - acc: 0.0000e+00 - val_loss: 0.0203 - val_acc: 0.0000e+00\n",
      "Epoch 29/80\n",
      "95/95 [==============================] - 0s 395us/step - loss: 0.0189 - acc: 0.0000e+00 - val_loss: 0.0200 - val_acc: 0.0000e+00\n",
      "Epoch 30/80\n",
      "95/95 [==============================] - 0s 446us/step - loss: 0.0185 - acc: 0.0000e+00 - val_loss: 0.0207 - val_acc: 0.0000e+00\n",
      "Epoch 31/80\n",
      "95/95 [==============================] - 0s 462us/step - loss: 0.0186 - acc: 0.0000e+00 - val_loss: 0.0197 - val_acc: 0.0000e+00\n",
      "Epoch 32/80\n",
      "95/95 [==============================] - 0s 377us/step - loss: 0.0180 - acc: 0.0000e+00 - val_loss: 0.0197 - val_acc: 0.0000e+00\n",
      "Epoch 33/80\n",
      "95/95 [==============================] - 0s 391us/step - loss: 0.0173 - acc: 0.0000e+00 - val_loss: 0.0197 - val_acc: 0.0000e+00\n",
      "Epoch 34/80\n",
      "95/95 [==============================] - 0s 450us/step - loss: 0.0172 - acc: 0.0000e+00 - val_loss: 0.0192 - val_acc: 0.0000e+00\n",
      "Epoch 35/80\n",
      "95/95 [==============================] - 0s 425us/step - loss: 0.0172 - acc: 0.0000e+00 - val_loss: 0.0191 - val_acc: 0.0000e+00\n",
      "Epoch 36/80\n",
      "95/95 [==============================] - 0s 466us/step - loss: 0.0169 - acc: 0.0000e+00 - val_loss: 0.0188 - val_acc: 0.0000e+00\n",
      "Epoch 37/80\n",
      "95/95 [==============================] - 0s 366us/step - loss: 0.0167 - acc: 0.0000e+00 - val_loss: 0.0191 - val_acc: 0.0000e+00\n",
      "Epoch 38/80\n",
      "95/95 [==============================] - 0s 448us/step - loss: 0.0163 - acc: 0.0000e+00 - val_loss: 0.0186 - val_acc: 0.0000e+00\n",
      "Epoch 39/80\n",
      "95/95 [==============================] - 0s 375us/step - loss: 0.0167 - acc: 0.0000e+00 - val_loss: 0.0185 - val_acc: 0.0000e+00\n",
      "Epoch 40/80\n",
      "95/95 [==============================] - 0s 280us/step - loss: 0.0160 - acc: 0.0000e+00 - val_loss: 0.0195 - val_acc: 0.0000e+00\n",
      "Epoch 41/80\n",
      "95/95 [==============================] - 0s 442us/step - loss: 0.0161 - acc: 0.0000e+00 - val_loss: 0.0182 - val_acc: 0.0000e+00\n",
      "Epoch 42/80\n",
      "95/95 [==============================] - 0s 373us/step - loss: 0.0156 - acc: 0.0000e+00 - val_loss: 0.0182 - val_acc: 0.0000e+00\n",
      "Epoch 43/80\n",
      "95/95 [==============================] - 0s 241us/step - loss: 0.0156 - acc: 0.0000e+00 - val_loss: 0.0185 - val_acc: 0.0000e+00\n",
      "Epoch 44/80\n",
      "95/95 [==============================] - 0s 433us/step - loss: 0.0157 - acc: 0.0000e+00 - val_loss: 0.0179 - val_acc: 0.0000e+00\n",
      "Epoch 45/80\n",
      "95/95 [==============================] - 0s 250us/step - loss: 0.0152 - acc: 0.0000e+00 - val_loss: 0.0181 - val_acc: 0.0000e+00\n",
      "Epoch 46/80\n",
      "95/95 [==============================] - 0s 425us/step - loss: 0.0149 - acc: 0.0000e+00 - val_loss: 0.0180 - val_acc: 0.0000e+00\n",
      "Epoch 47/80\n",
      "95/95 [==============================] - 0s 357us/step - loss: 0.0152 - acc: 0.0000e+00 - val_loss: 0.0179 - val_acc: 0.0000e+00\n",
      "Epoch 48/80\n",
      "95/95 [==============================] - 0s 298us/step - loss: 0.0147 - acc: 0.0000e+00 - val_loss: 0.0180 - val_acc: 0.0000e+00\n",
      "Epoch 49/80\n",
      "95/95 [==============================] - 0s 470us/step - loss: 0.0157 - acc: 0.0000e+00 - val_loss: 0.0176 - val_acc: 0.0000e+00\n",
      "Epoch 50/80\n",
      "95/95 [==============================] - 0s 366us/step - loss: 0.0147 - acc: 0.0000e+00 - val_loss: 0.0179 - val_acc: 0.0000e+00\n",
      "Epoch 51/80\n",
      "95/95 [==============================] - 0s 292us/step - loss: 0.0149 - acc: 0.0000e+00 - val_loss: 0.0179 - val_acc: 0.0000e+00\n",
      "Epoch 52/80\n",
      "95/95 [==============================] - 0s 430us/step - loss: 0.0160 - acc: 0.0000e+00 - val_loss: 0.0187 - val_acc: 0.0000e+00\n",
      "Epoch 53/80\n",
      "95/95 [==============================] - 0s 339us/step - loss: 0.0156 - acc: 0.0000e+00 - val_loss: 0.0188 - val_acc: 0.0000e+00\n",
      "Epoch 54/80\n",
      "95/95 [==============================] - 0s 443us/step - loss: 0.0152 - acc: 0.0000e+00 - val_loss: 0.0180 - val_acc: 0.0000e+00\n",
      "Epoch 55/80\n",
      "95/95 [==============================] - 0s 370us/step - loss: 0.0151 - acc: 0.0000e+00 - val_loss: 0.0180 - val_acc: 0.0000e+00\n",
      "Epoch 56/80\n",
      "95/95 [==============================] - 0s 370us/step - loss: 0.0137 - acc: 0.0000e+00 - val_loss: 0.0173 - val_acc: 0.0000e+00\n",
      "Epoch 57/80\n",
      "95/95 [==============================] - 0s 292us/step - loss: 0.0149 - acc: 0.0000e+00 - val_loss: 0.0172 - val_acc: 0.0000e+00\n",
      "Epoch 58/80\n",
      "95/95 [==============================] - 0s 431us/step - loss: 0.0151 - acc: 0.0000e+00 - val_loss: 0.0183 - val_acc: 0.0000e+00\n",
      "Epoch 59/80\n",
      "95/95 [==============================] - 0s 410us/step - loss: 0.0140 - acc: 0.0000e+00 - val_loss: 0.0172 - val_acc: 0.0000e+00\n",
      "Epoch 60/80\n",
      "95/95 [==============================] - 0s 375us/step - loss: 0.0145 - acc: 0.0000e+00 - val_loss: 0.0170 - val_acc: 0.0000e+00\n",
      "Epoch 61/80\n",
      "95/95 [==============================] - 0s 442us/step - loss: 0.0135 - acc: 0.0000e+00 - val_loss: 0.0174 - val_acc: 0.0000e+00\n",
      "Epoch 62/80\n",
      "95/95 [==============================] - 0s 421us/step - loss: 0.0141 - acc: 0.0000e+00 - val_loss: 0.0171 - val_acc: 0.0000e+00\n",
      "Epoch 63/80\n",
      "95/95 [==============================] - 0s 378us/step - loss: 0.0138 - acc: 0.0000e+00 - val_loss: 0.0177 - val_acc: 0.0000e+00\n",
      "Epoch 64/80\n",
      "95/95 [==============================] - 0s 478us/step - loss: 0.0136 - acc: 0.0000e+00 - val_loss: 0.0170 - val_acc: 0.0000e+00\n",
      "Epoch 65/80\n",
      "95/95 [==============================] - 0s 444us/step - loss: 0.0142 - acc: 0.0000e+00 - val_loss: 0.0172 - val_acc: 0.0000e+00\n",
      "Epoch 66/80\n",
      "95/95 [==============================] - 0s 328us/step - loss: 0.0137 - acc: 0.0000e+00 - val_loss: 0.0168 - val_acc: 0.0000e+00\n",
      "Epoch 67/80\n",
      "95/95 [==============================] - 0s 507us/step - loss: 0.0140 - acc: 0.0000e+00 - val_loss: 0.0175 - val_acc: 0.0000e+00\n",
      "Epoch 68/80\n",
      "95/95 [==============================] - 0s 501us/step - loss: 0.0133 - acc: 0.0000e+00 - val_loss: 0.0169 - val_acc: 0.0000e+00\n",
      "Epoch 69/80\n",
      "95/95 [==============================] - 0s 442us/step - loss: 0.0134 - acc: 0.0000e+00 - val_loss: 0.0169 - val_acc: 0.0000e+00\n",
      "Epoch 70/80\n",
      "95/95 [==============================] - 0s 406us/step - loss: 0.0138 - acc: 0.0000e+00 - val_loss: 0.0171 - val_acc: 0.0000e+00\n",
      "Epoch 71/80\n",
      "95/95 [==============================] - 0s 394us/step - loss: 0.0131 - acc: 0.0000e+00 - val_loss: 0.0169 - val_acc: 0.0000e+00\n",
      "Epoch 72/80\n",
      "95/95 [==============================] - 0s 384us/step - loss: 0.0134 - acc: 0.0000e+00 - val_loss: 0.0170 - val_acc: 0.0000e+00\n",
      "Epoch 73/80\n",
      "95/95 [==============================] - 0s 419us/step - loss: 0.0134 - acc: 0.0000e+00 - val_loss: 0.0173 - val_acc: 0.0000e+00\n",
      "Epoch 74/80\n",
      "95/95 [==============================] - 0s 397us/step - loss: 0.0137 - acc: 0.0000e+00 - val_loss: 0.0169 - val_acc: 0.0000e+00\n",
      "Epoch 75/80\n",
      "95/95 [==============================] - 0s 459us/step - loss: 0.0132 - acc: 0.0000e+00 - val_loss: 0.0173 - val_acc: 0.0000e+00\n",
      "Epoch 76/80\n",
      "95/95 [==============================] - 0s 254us/step - loss: 0.0140 - acc: 0.0000e+00 - val_loss: 0.0172 - val_acc: 0.0000e+00\n",
      "Epoch 77/80\n",
      "95/95 [==============================] - 0s 452us/step - loss: 0.0131 - acc: 0.0000e+00 - val_loss: 0.0171 - val_acc: 0.0000e+00\n",
      "Epoch 78/80\n",
      "95/95 [==============================] - 0s 489us/step - loss: 0.0132 - acc: 0.0000e+00 - val_loss: 0.0170 - val_acc: 0.0000e+00\n",
      "Epoch 79/80\n",
      "95/95 [==============================] - 0s 394us/step - loss: 0.0138 - acc: 0.0000e+00 - val_loss: 0.0167 - val_acc: 0.0000e+00\n",
      "Epoch 80/80\n",
      "95/95 [==============================] - 0s 373us/step - loss: 0.0133 - acc: 0.0000e+00 - val_loss: 0.0170 - val_acc: 0.0000e+00\n"
     ]
    },
    {
     "data": {
      "text/plain": [
       "<keras.callbacks.History at 0x7f806c5839a0>"
      ]
     },
     "execution_count": 112,
     "metadata": {},
     "output_type": "execute_result"
    }
   ],
   "source": [
    "model.fit(X[:-N//2], Y[:-N//2], validation_data=(X[-N//2:], Y[-N//2:]), epochs=80)"
   ]
  },
  {
   "cell_type": "code",
   "execution_count": 113,
   "metadata": {},
   "outputs": [
    {
     "data": {
      "text/plain": [
       "<matplotlib.legend.Legend at 0x7f806c65ae20>"
      ]
     },
     "execution_count": 113,
     "metadata": {},
     "output_type": "execute_result"
    },
    {
     "data": {
      "image/png": "[encoded data removed]",
      "text/plain": [
       "<matplotlib.figure.Figure at 0x7f806c583d60>"
      ]
     },
     "metadata": {
      "needs_background": "light"
     },
     "output_type": "display_data"
    }
   ],
   "source": [
    "r = model.history\n",
    "plt.plot(r.history['loss'], label='loss')\n",
    "plt.plot(r.history['val_loss'], label='val_loss')\n",
    "plt.legend()"
   ]
  },
  {
   "cell_type": "code",
   "execution_count": null,
   "metadata": {},
   "outputs": [],
   "source": []
  },
  {
   "cell_type": "code",
   "execution_count": 114,
   "metadata": {},
   "outputs": [],
   "source": [
    "validation_target = Y[-N//2:]\n",
    "validation_predict = []\n",
    "last_x = X[-N//2]"
   ]
  },
  {
   "cell_type": "code",
   "execution_count": 115,
   "metadata": {},
   "outputs": [],
   "source": [
    "while len(validation_predict) <  len(validation_target):\n",
    "    predict = model.predict(last_x.reshape(1, -1))[0, 0]\n",
    "    validation_predict.append(predict)\n",
    "    last_x = np.roll(last_x, -1)\n",
    "    last_x[-1] = predict"
   ]
  },
  {
   "cell_type": "code",
   "execution_count": 116,
   "metadata": {},
   "outputs": [
    {
     "data": {
      "text/plain": [
       "<matplotlib.legend.Legend at 0x7f806c892100>"
      ]
     },
     "execution_count": 116,
     "metadata": {},
     "output_type": "execute_result"
    },
    {
     "data": {
      "image/png": "[encoded data removed]",
      "text/plain": [
       "<matplotlib.figure.Figure at 0x7f806c67d8e0>"
      ]
     },
     "metadata": {
      "needs_background": "light"
     },
     "output_type": "display_data"
    }
   ],
   "source": [
    "plt.plot(validation_predict, label='predict')\n",
    "plt.plot(validation_target, label='target')\n",
    "plt.legend()"
   ]
  },
  {
   "cell_type": "markdown",
   "metadata": {},
   "source": [
    "the result are not longer as good because of all the noises"
   ]
  },
  {
   "cell_type": "code",
   "execution_count": null,
   "metadata": {},
   "outputs": [],
   "source": []
  },
  {
   "cell_type": "code",
   "execution_count": null,
   "metadata": {},
   "outputs": [],
   "source": []
  }
 ],
 "metadata": {
  "kernelspec": {
   "display_name": "Python 3",
   "language": "python",
   "name": "python3"
  },
  "language_info": {
   "codemirror_mode": {
    "name": "ipython",
    "version": 3
   },
   "file_extension": ".py",
   "mimetype": "text/x-python",
   "name": "python",
   "nbconvert_exporter": "python",
   "pygments_lexer": "ipython3",
   "version": "3.8.3"
  }
 },
 "nbformat": 4,
 "nbformat_minor": 4
}
