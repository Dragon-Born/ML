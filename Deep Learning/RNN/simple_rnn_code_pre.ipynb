{
 "cells": [
  {
   "cell_type": "markdown",
   "metadata": {},
   "source": [
    "### Steps\n",
    "\n",
    "1. load data\n",
    "2. build model\n",
    "3. train model\n",
    "4. evaluate model\n",
    "5. make prediction -> a liitle tricky (need to pay attention to shapes)\n",
    "\n",
    "\n",
    "#### load data\n",
    "linear regression excepts a 2D array as input we passed it with an N\\*T array however RNN excepts 3D input (N\\*T\\*1 in this sample)"
   ]
  },
  {
   "cell_type": "code",
   "execution_count": 1,
   "metadata": {},
   "outputs": [
    {
     "name": "stderr",
     "output_type": "stream",
     "text": [
      "Using plaidml.keras.backend backend.\n"
     ]
    }
   ],
   "source": [
    "# instantiate the model\n",
    "from keras.layers import SimpleRNN, Input, Dense\n",
    "from keras.models import Model\n",
    "from keras.optimizers import Adam\n",
    "import numpy as np\n",
    "import matplotlib.pyplot as plt"
   ]
  },
  {
   "cell_type": "code",
   "execution_count": 2,
   "metadata": {},
   "outputs": [],
   "source": [
    "# load data\n",
    "series = np.sin(np.arange(0, 20, 0.1)) + np.random.randn(200) * 0.1\n",
    "\n",
    "# build dataset\n",
    "\n",
    "T = 10 # sequence length\n",
    "D = 1 # number of input features\n",
    "\n",
    "X = []\n",
    "Y = []\n",
    "for t in range(len(series) - T):\n",
    "    X.append(series[t:t+T])\n",
    "    Y.append(series[t+T])\n",
    "X = np.array(X).reshape(-1, T, 1)\n",
    "Y = np.array(Y)\n",
    "N = len(X) # number of samples"
   ]
  },
  {
   "cell_type": "code",
   "execution_count": 3,
   "metadata": {},
   "outputs": [
    {
     "name": "stderr",
     "output_type": "stream",
     "text": [
      "INFO:plaidml:Opening device \"metal_amd_radeon_pro_555x.0\"\n"
     ]
    }
   ],
   "source": [
    "# build model\n",
    "\n",
    "# things to test => change activation to None and relu and no activation\n",
    "#                   add noise to the dataset\n",
    "input1 = Input((T, 1))\n",
    "x = SimpleRNN(5, activation='relu')(input1)\n",
    "x = Dense(1)(x)\n",
    "\n",
    "model = Model(input1, x)\n",
    "model.compile(Adam(lr=0.1), loss='mse')"
   ]
  },
  {
   "cell_type": "code",
   "execution_count": 4,
   "metadata": {},
   "outputs": [
    {
     "name": "stdout",
     "output_type": "stream",
     "text": [
      "Train on 95 samples, validate on 95 samples\n",
      "Epoch 1/80\n",
      "95/95 [==============================] - 0s 5ms/step - loss: 0.3768 - val_loss: 0.1523\n",
      "Epoch 2/80\n",
      "95/95 [==============================] - 0s 444us/step - loss: 0.1266 - val_loss: 0.0566\n",
      "Epoch 3/80\n",
      "95/95 [==============================] - 0s 447us/step - loss: 0.0491 - val_loss: 0.0441\n",
      "Epoch 4/80\n",
      "95/95 [==============================] - 0s 346us/step - loss: 0.0491 - val_loss: 0.0606\n",
      "Epoch 5/80\n",
      "95/95 [==============================] - 0s 346us/step - loss: 0.0602 - val_loss: 0.0607\n",
      "Epoch 6/80\n",
      "95/95 [==============================] - 0s 333us/step - loss: 0.0435 - val_loss: 0.0338\n",
      "Epoch 7/80\n",
      "95/95 [==============================] - 0s 338us/step - loss: 0.0352 - val_loss: 0.0352\n",
      "Epoch 8/80\n",
      "95/95 [==============================] - 0s 360us/step - loss: 0.0373 - val_loss: 0.0426\n",
      "Epoch 9/80\n",
      "95/95 [==============================] - 0s 365us/step - loss: 0.0342 - val_loss: 0.0298\n",
      "Epoch 10/80\n",
      "95/95 [==============================] - 0s 337us/step - loss: 0.0293 - val_loss: 0.0303\n",
      "Epoch 11/80\n",
      "95/95 [==============================] - 0s 343us/step - loss: 0.0311 - val_loss: 0.0310\n",
      "Epoch 12/80\n",
      "95/95 [==============================] - 0s 360us/step - loss: 0.0286 - val_loss: 0.0271\n",
      "Epoch 13/80\n",
      "95/95 [==============================] - 0s 386us/step - loss: 0.0255 - val_loss: 0.0266\n",
      "Epoch 14/80\n",
      "95/95 [==============================] - 0s 342us/step - loss: 0.0277 - val_loss: 0.0270\n",
      "Epoch 15/80\n",
      "95/95 [==============================] - 0s 345us/step - loss: 0.0260 - val_loss: 0.0264\n",
      "Epoch 16/80\n",
      "95/95 [==============================] - 0s 339us/step - loss: 0.0236 - val_loss: 0.0247\n",
      "Epoch 17/80\n",
      "95/95 [==============================] - 0s 397us/step - loss: 0.0250 - val_loss: 0.0248\n",
      "Epoch 18/80\n",
      "95/95 [==============================] - 0s 2ms/step - loss: 0.0240 - val_loss: 0.0246\n",
      "Epoch 19/80\n",
      "95/95 [==============================] - 0s 507us/step - loss: 0.0234 - val_loss: 0.0251\n",
      "Epoch 20/80\n",
      "95/95 [==============================] - 0s 370us/step - loss: 0.0223 - val_loss: 0.0244\n",
      "Epoch 21/80\n",
      "95/95 [==============================] - 0s 453us/step - loss: 0.0220 - val_loss: 0.0244\n",
      "Epoch 22/80\n",
      "95/95 [==============================] - 0s 616us/step - loss: 0.0220 - val_loss: 0.0245\n",
      "Epoch 23/80\n",
      "95/95 [==============================] - 0s 307us/step - loss: 0.0231 - val_loss: 0.0248\n",
      "Epoch 24/80\n",
      "95/95 [==============================] - 0s 267us/step - loss: 0.0223 - val_loss: 0.0242\n",
      "Epoch 25/80\n",
      "95/95 [==============================] - 0s 345us/step - loss: 0.0209 - val_loss: 0.0262\n",
      "Epoch 26/80\n",
      "95/95 [==============================] - 0s 311us/step - loss: 0.0214 - val_loss: 0.0241\n",
      "Epoch 27/80\n",
      "95/95 [==============================] - 0s 288us/step - loss: 0.0224 - val_loss: 0.0244\n",
      "Epoch 28/80\n",
      "95/95 [==============================] - 0s 281us/step - loss: 0.0224 - val_loss: 0.0233\n",
      "Epoch 29/80\n",
      "95/95 [==============================] - 0s 290us/step - loss: 0.0213 - val_loss: 0.0235\n",
      "Epoch 30/80\n",
      "95/95 [==============================] - 0s 275us/step - loss: 0.0219 - val_loss: 0.0249\n",
      "Epoch 31/80\n",
      "95/95 [==============================] - 0s 314us/step - loss: 0.0220 - val_loss: 0.0232\n",
      "Epoch 32/80\n",
      "95/95 [==============================] - 0s 269us/step - loss: 0.0202 - val_loss: 0.0245\n",
      "Epoch 33/80\n",
      "95/95 [==============================] - 0s 278us/step - loss: 0.0204 - val_loss: 0.0233\n",
      "Epoch 34/80\n",
      "95/95 [==============================] - 0s 302us/step - loss: 0.0209 - val_loss: 0.0245\n",
      "Epoch 35/80\n",
      "95/95 [==============================] - 0s 308us/step - loss: 0.0216 - val_loss: 0.0243\n",
      "Epoch 36/80\n",
      "95/95 [==============================] - 0s 312us/step - loss: 0.0204 - val_loss: 0.0237\n",
      "Epoch 37/80\n",
      "95/95 [==============================] - 0s 311us/step - loss: 0.0202 - val_loss: 0.0243\n",
      "Epoch 38/80\n",
      "95/95 [==============================] - 0s 348us/step - loss: 0.0199 - val_loss: 0.0237\n",
      "Epoch 39/80\n",
      "95/95 [==============================] - 0s 319us/step - loss: 0.0205 - val_loss: 0.0251\n",
      "Epoch 40/80\n",
      "95/95 [==============================] - 0s 307us/step - loss: 0.0238 - val_loss: 0.0244\n",
      "Epoch 41/80\n",
      "95/95 [==============================] - 0s 292us/step - loss: 0.0279 - val_loss: 0.0267\n",
      "Epoch 42/80\n",
      "95/95 [==============================] - 0s 295us/step - loss: 0.0240 - val_loss: 0.0246\n",
      "Epoch 43/80\n",
      "95/95 [==============================] - 0s 296us/step - loss: 0.0255 - val_loss: 0.0236\n",
      "Epoch 44/80\n",
      "95/95 [==============================] - 0s 284us/step - loss: 0.0209 - val_loss: 0.0262\n",
      "Epoch 45/80\n",
      "95/95 [==============================] - 0s 310us/step - loss: 0.0213 - val_loss: 0.0239\n",
      "Epoch 46/80\n",
      "95/95 [==============================] - 0s 339us/step - loss: 0.0203 - val_loss: 0.0254\n",
      "Epoch 47/80\n",
      "95/95 [==============================] - 0s 282us/step - loss: 0.0216 - val_loss: 0.0239\n",
      "Epoch 48/80\n",
      "95/95 [==============================] - 0s 286us/step - loss: 0.0211 - val_loss: 0.0238\n",
      "Epoch 49/80\n",
      "95/95 [==============================] - 0s 320us/step - loss: 0.0204 - val_loss: 0.0241\n",
      "Epoch 50/80\n",
      "95/95 [==============================] - 0s 343us/step - loss: 0.0215 - val_loss: 0.0243\n",
      "Epoch 51/80\n",
      "95/95 [==============================] - 0s 369us/step - loss: 0.0205 - val_loss: 0.0240\n",
      "Epoch 52/80\n",
      "95/95 [==============================] - 0s 318us/step - loss: 0.0202 - val_loss: 0.0259\n",
      "Epoch 53/80\n",
      "95/95 [==============================] - 0s 292us/step - loss: 0.0219 - val_loss: 0.0249\n",
      "Epoch 54/80\n",
      "95/95 [==============================] - 0s 266us/step - loss: 0.0250 - val_loss: 0.0244\n",
      "Epoch 55/80\n",
      "95/95 [==============================] - 0s 319us/step - loss: 0.0234 - val_loss: 0.0246\n",
      "Epoch 56/80\n",
      "95/95 [==============================] - 0s 308us/step - loss: 0.0220 - val_loss: 0.0243\n",
      "Epoch 57/80\n",
      "95/95 [==============================] - 0s 274us/step - loss: 0.0209 - val_loss: 0.0242\n",
      "Epoch 58/80\n",
      "95/95 [==============================] - 0s 269us/step - loss: 0.0218 - val_loss: 0.0250\n",
      "Epoch 59/80\n",
      "95/95 [==============================] - 0s 303us/step - loss: 0.0212 - val_loss: 0.0254\n",
      "Epoch 60/80\n",
      "95/95 [==============================] - 0s 372us/step - loss: 0.0207 - val_loss: 0.0243\n",
      "Epoch 61/80\n",
      "95/95 [==============================] - 0s 336us/step - loss: 0.0200 - val_loss: 0.0249\n",
      "Epoch 62/80\n",
      "95/95 [==============================] - 0s 276us/step - loss: 0.0199 - val_loss: 0.0252\n",
      "Epoch 63/80\n",
      "95/95 [==============================] - 0s 271us/step - loss: 0.0202 - val_loss: 0.0246\n",
      "Epoch 64/80\n",
      "95/95 [==============================] - 0s 290us/step - loss: 0.0204 - val_loss: 0.0268\n",
      "Epoch 65/80\n",
      "95/95 [==============================] - 0s 360us/step - loss: 0.0207 - val_loss: 0.0253\n",
      "Epoch 66/80\n",
      "95/95 [==============================] - 0s 283us/step - loss: 0.0218 - val_loss: 0.0258\n",
      "Epoch 67/80\n",
      "95/95 [==============================] - 0s 285us/step - loss: 0.0221 - val_loss: 0.0248\n",
      "Epoch 68/80\n",
      "95/95 [==============================] - 0s 301us/step - loss: 0.0197 - val_loss: 0.0250\n",
      "Epoch 69/80\n",
      "95/95 [==============================] - 0s 338us/step - loss: 0.0209 - val_loss: 0.0277\n",
      "Epoch 70/80\n",
      "95/95 [==============================] - 0s 342us/step - loss: 0.0203 - val_loss: 0.0250\n",
      "Epoch 71/80\n",
      "95/95 [==============================] - 0s 365us/step - loss: 0.0195 - val_loss: 0.0253\n",
      "Epoch 72/80\n",
      "95/95 [==============================] - 0s 326us/step - loss: 0.0200 - val_loss: 0.0252\n",
      "Epoch 73/80\n",
      "95/95 [==============================] - 0s 344us/step - loss: 0.0200 - val_loss: 0.0249\n",
      "Epoch 74/80\n",
      "95/95 [==============================] - 0s 336us/step - loss: 0.0209 - val_loss: 0.0266\n",
      "Epoch 75/80\n",
      "95/95 [==============================] - 0s 324us/step - loss: 0.0228 - val_loss: 0.0248\n",
      "Epoch 76/80\n",
      "95/95 [==============================] - 0s 343us/step - loss: 0.0234 - val_loss: 0.0269\n",
      "Epoch 77/80\n",
      "95/95 [==============================] - 0s 308us/step - loss: 0.0213 - val_loss: 0.0325\n",
      "Epoch 78/80\n",
      "95/95 [==============================] - 0s 296us/step - loss: 0.0226 - val_loss: 0.0269\n",
      "Epoch 79/80\n",
      "95/95 [==============================] - 0s 316us/step - loss: 0.0255 - val_loss: 0.0253\n",
      "Epoch 80/80\n",
      "95/95 [==============================] - 0s 285us/step - loss: 0.0217 - val_loss: 0.0393\n"
     ]
    },
    {
     "data": {
      "text/plain": [
       "<keras.callbacks.History at 0x7fab769a7070>"
      ]
     },
     "execution_count": 4,
     "metadata": {},
     "output_type": "execute_result"
    }
   ],
   "source": [
    "model.fit(X[:-N//2], Y[:-N//2], validation_data=(X[-N//2:], Y[-N//2:]), epochs=80)"
   ]
  },
  {
   "cell_type": "code",
   "execution_count": 5,
   "metadata": {},
   "outputs": [
    {
     "data": {
      "text/plain": [
       "<matplotlib.legend.Legend at 0x7fab77fe0c40>"
      ]
     },
     "execution_count": 5,
     "metadata": {},
     "output_type": "execute_result"
    },
    {
     "data": {
      "image/png": "[encoded data removed]",
      "text/plain": [
       "<matplotlib.figure.Figure at 0x7fab769a7be0>"
      ]
     },
     "metadata": {
      "needs_background": "light"
     },
     "output_type": "display_data"
    }
   ],
   "source": [
    "r = model.history\n",
    "plt.plot(r.history['loss'], label='loss')\n",
    "plt.plot(r.history['val_loss'], label='val_loss')\n",
    "plt.legend()"
   ]
  },
  {
   "cell_type": "code",
   "execution_count": 6,
   "metadata": {},
   "outputs": [],
   "source": [
    "validation_target = Y[-N//2:]\n",
    "validation_predict = []\n",
    "last_x = X[-N//2]\n"
   ]
  },
  {
   "cell_type": "code",
   "execution_count": 7,
   "metadata": {},
   "outputs": [],
   "source": [
    "while len(validation_predict) <  len(validation_target):\n",
    "    predict = model.predict(last_x.reshape(1, T, 1))[0, 0]\n",
    "    validation_predict.append(predict)\n",
    "    last_x = np.roll(last_x, -1)\n",
    "    last_x[-1] = predict"
   ]
  },
  {
   "cell_type": "code",
   "execution_count": 8,
   "metadata": {},
   "outputs": [
    {
     "data": {
      "text/plain": [
       "<matplotlib.legend.Legend at 0x7fab7819f760>"
      ]
     },
     "execution_count": 8,
     "metadata": {},
     "output_type": "execute_result"
    },
    {
     "data": {
      "image/png": "[encoded data removed]",
      "text/plain": [
       "<matplotlib.figure.Figure at 0x7fab77fa0040>"
      ]
     },
     "metadata": {
      "needs_background": "light"
     },
     "output_type": "display_data"
    }
   ],
   "source": [
    "plt.plot(validation_predict, label='predict')\n",
    "plt.plot(validation_target, label='target')\n",
    "plt.legend()"
   ]
  },
  {
   "cell_type": "code",
   "execution_count": null,
   "metadata": {},
   "outputs": [],
   "source": []
  },
  {
   "cell_type": "code",
   "execution_count": null,
   "metadata": {},
   "outputs": [],
   "source": []
  }
 ],
 "metadata": {
  "kernelspec": {
   "display_name": "Python 3",
   "language": "python",
   "name": "python3"
  },
  "language_info": {
   "codemirror_mode": {
    "name": "ipython",
    "version": 3
   },
   "file_extension": ".py",
   "mimetype": "text/x-python",
   "name": "python",
   "nbconvert_exporter": "python",
   "pygments_lexer": "ipython3",
   "version": "3.8.3"
  }
 },
 "nbformat": 4,
 "nbformat_minor": 4
}
