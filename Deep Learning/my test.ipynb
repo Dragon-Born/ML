{
 "cells": [
  {
   "cell_type": "code",
   "execution_count": 298,
   "metadata": {},
   "outputs": [],
   "source": [
    "from keras import datasets\n",
    "from keras import models\n",
    "from keras import layers\n",
    "from keras import losses, activations, optimizers\n",
    "from keras.utils.np_utils import to_categorical\n",
    "import matplotlib.pyplot as plt"
   ]
  },
  {
   "cell_type": "code",
   "execution_count": 299,
   "metadata": {},
   "outputs": [],
   "source": [
    "mnist = datasets.mnist.load_data()\n",
    "x = mnist[0][0]\n",
    "y = mnist[0][1]\n",
    "y = to_categorical(y)\n",
    "x_test, y_test = mnist[1][0], mnist[1][1]"
   ]
  },
  {
   "cell_type": "code",
   "execution_count": 300,
   "metadata": {},
   "outputs": [],
   "source": [
    "new_x = x.reshape(60000, 28,28, 1).astype(\"float32\")/255"
   ]
  },
  {
   "cell_type": "code",
   "execution_count": null,
   "metadata": {},
   "outputs": [],
   "source": []
  },
  {
   "cell_type": "code",
   "execution_count": 338,
   "metadata": {},
   "outputs": [],
   "source": [
    "input1 = layers.Input((28,28,1 ))\n",
    "x = layers.Conv2D(16, (3,3), strides=2, activation=\"relu\", padding=\"same\")(input1)\n",
    "x = layers.Conv2D(32, (3,3), strides=2, activation=\"relu\", padding=\"same\")(x)\n",
    "x = layers.Conv2D(16, (3,3), strides=2, activation=\"relu\", padding=\"same\")(x)\n",
    "\n",
    "x = layers.Flatten()(x)\n",
    "x = layers.Dense(128, activation='relu')(x)\n",
    "x = layers.Dense(32, activation='relu')(x)\n",
    "x = layers.Dense(10, activation='softmax')(x)\n",
    "\n",
    "\n",
    "model = models.Model(input1, x)"
   ]
  },
  {
   "cell_type": "code",
   "execution_count": 339,
   "metadata": {},
   "outputs": [],
   "source": [
    "model.compile('adam',loss=losses.categorical_crossentropy, metrics=[\"accuracy\"])"
   ]
  },
  {
   "cell_type": "code",
   "execution_count": null,
   "metadata": {},
   "outputs": [],
   "source": []
  },
  {
   "cell_type": "code",
   "execution_count": 341,
   "metadata": {},
   "outputs": [
    {
     "name": "stdout",
     "output_type": "stream",
     "text": [
      "Train on 48000 samples, validate on 12000 samples\n",
      "Epoch 1/10\n",
      "48000/48000 [==============================] - 5s 111us/step - loss: 0.0258 - acc: 0.9920 - val_loss: 0.0693 - val_acc: 0.9818\n",
      "Epoch 2/10\n",
      "48000/48000 [==============================] - 5s 113us/step - loss: 0.0233 - acc: 0.9924 - val_loss: 0.0548 - val_acc: 0.9853\n",
      "Epoch 3/10\n",
      "48000/48000 [==============================] - 5s 110us/step - loss: 0.0204 - acc: 0.9934 - val_loss: 0.0593 - val_acc: 0.9847\n",
      "Epoch 4/10\n",
      "48000/48000 [==============================] - 5s 111us/step - loss: 0.0165 - acc: 0.9944 - val_loss: 0.0749 - val_acc: 0.9817\n",
      "Epoch 5/10\n",
      "48000/48000 [==============================] - 5s 111us/step - loss: 0.0174 - acc: 0.9940 - val_loss: 0.0642 - val_acc: 0.9850\n",
      "Epoch 6/10\n",
      "48000/48000 [==============================] - 5s 110us/step - loss: 0.0157 - acc: 0.9949 - val_loss: 0.0668 - val_acc: 0.9829\n",
      "Epoch 7/10\n",
      "48000/48000 [==============================] - 5s 111us/step - loss: 0.0117 - acc: 0.9961 - val_loss: 0.0661 - val_acc: 0.9843\n",
      "Epoch 8/10\n",
      "48000/48000 [==============================] - 5s 110us/step - loss: 0.0124 - acc: 0.9959 - val_loss: 0.0708 - val_acc: 0.9845\n",
      "Epoch 9/10\n",
      "48000/48000 [==============================] - 5s 111us/step - loss: 0.0103 - acc: 0.9961 - val_loss: 0.0849 - val_acc: 0.9820\n",
      "Epoch 10/10\n",
      "48000/48000 [==============================] - 5s 110us/step - loss: 0.0139 - acc: 0.9954 - val_loss: 0.0657 - val_acc: 0.9833\n"
     ]
    },
    {
     "data": {
      "text/plain": [
       "<keras.callbacks.History at 0x7fcaab5b0160>"
      ]
     },
     "execution_count": 341,
     "metadata": {},
     "output_type": "execute_result"
    }
   ],
   "source": [
    "model.fit(new_x, y, batch_size=128, epochs=10, validation_split=0.2)"
   ]
  },
  {
   "cell_type": "code",
   "execution_count": 344,
   "metadata": {},
   "outputs": [
    {
     "data": {
      "image/png": "[encoded data removed]",
      "text/plain": [
       "<matplotlib.figure.Figure at 0x7fcaf352bf10>"
      ]
     },
     "metadata": {
      "needs_background": "light"
     },
     "output_type": "display_data"
    }
   ],
   "source": [
    "# num = np.argmax(model.predict(x_test.reshape(x_test.shape[0], 28,28,1)), 1)\n",
    "counter = 0\n",
    "for i in num:\n",
    "    plt.subplot(1,11, counter+1)\n",
    "    plt.title(num[counter])\n",
    "    plt.imshow(x_test.reshape(x_test.shape[0], 28,28)[counter])\n",
    "    if counter == 10:\n",
    "        break\n",
    "    counter += 1\n",
    "plt.show()"
   ]
  },
  {
   "cell_type": "markdown",
   "metadata": {},
   "source": []
  },
  {
   "cell_type": "markdown",
   "metadata": {},
   "source": []
  },
  {
   "cell_type": "code",
   "execution_count": null,
   "metadata": {},
   "outputs": [],
   "source": []
  },
  {
   "cell_type": "code",
   "execution_count": null,
   "metadata": {},
   "outputs": [],
   "source": []
  }
 ],
 "metadata": {
  "kernelspec": {
   "display_name": "Python 3",
   "language": "python",
   "name": "python3"
  },
  "language_info": {
   "codemirror_mode": {
    "name": "ipython",
    "version": 3
   },
   "file_extension": ".py",
   "mimetype": "text/x-python",
   "name": "python",
   "nbconvert_exporter": "python",
   "pygments_lexer": "ipython3",
   "version": "3.8.3"
  }
 },
 "nbformat": 4,
 "nbformat_minor": 4
}
