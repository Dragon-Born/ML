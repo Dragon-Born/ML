{
  "nbformat": 4,
  "nbformat_minor": 0,
  "metadata": {
    "colab": {
      "name": "CNN_cifar.ipynb",
      "provenance": []
    },
    "kernelspec": {
      "name": "python3",
      "display_name": "Python 3"
    },
    "accelerator": "GPU"
  },
  "cells": [
    {
      "cell_type": "code",
      "metadata": {
        "id": "d4cbNoiaUB0P",
        "colab_type": "code",
        "colab": {}
      },
      "source": [
        "from keras.layers import Dense, MaxPool3D, MaxPool2D, Conv2D, Input, Flatten, GlobalMaxPool2D ,Dropout\n",
        "from keras.preprocessing.image import ImageDataGenerator\n",
        "from keras.models import Model\n",
        "from keras.utils.np_utils import to_categorical\n",
        "from keras.datasets import cifar10, fashion_mnist\n",
        "import numpy as np\n",
        "import matplotlib.pyplot as plt"
      ],
      "execution_count": null,
      "outputs": []
    },
    {
      "cell_type": "code",
      "metadata": {
        "id": "lfheIPXGUIAW",
        "colab_type": "code",
        "colab": {}
      },
      "source": [
        "(x_train, y_train), (x_test, y_test) = cifar10.load_data()\n",
        "x_train, x_test = x_train/255.0, x_test/255.0"
      ],
      "execution_count": null,
      "outputs": []
    },
    {
      "cell_type": "code",
      "metadata": {
        "id": "1gM4wa9BYf2Z",
        "colab_type": "code",
        "colab": {}
      },
      "source": [
        "# data_generator = ImageDataGenerator(horizontal_flip=True,)"
      ],
      "execution_count": null,
      "outputs": []
    },
    {
      "cell_type": "code",
      "metadata": {
        "id": "ax3JnkbvUu8Y",
        "colab_type": "code",
        "colab": {}
      },
      "source": [
        "input1 = Input((32, 32, 3))\n",
        "x = Conv2D(32, (3,3), padding=\"same\", activation=\"relu\")(input1)\n",
        "x = MaxPool2D(2)(x)\n",
        "x = Conv2D(32, (3,3), padding=\"same\", activation=\"relu\")(input1)\n",
        "x = MaxPool2D(2)(x)\n",
        "x = Conv2D(32, (3,3), padding=\"same\", activation=\"relu\")(x)\n",
        "x = MaxPool2D(2)(x)\n",
        "x = Conv2D(64, (3,3), padding=\"same\", activation=\"relu\")(x)\n",
        "x = MaxPool2D(2)(x)\n",
        "x = Conv2D(128, (3,3), padding=\"same\", activation=\"relu\")(x)\n",
        "\n",
        "\n",
        "\n",
        "x = Flatten()(x)\n",
        "x = Dense(64, activation=\"relu\")(x)\n",
        "x = Dropout(0.3)(x)\n",
        "x = Dense(10, activation=\"softmax\")(x)"
      ],
      "execution_count": null,
      "outputs": []
    },
    {
      "cell_type": "code",
      "metadata": {
        "id": "URRMNxMdYoMt",
        "colab_type": "code",
        "colab": {}
      },
      "source": [
        "\n",
        "\n",
        "\n",
        "model = Model(input1, x)\n",
        "model.compile(optimizer=\"adam\", loss=\"sparse_categorical_crossentropy\", metrics=['accuracy'])"
      ],
      "execution_count": null,
      "outputs": []
    },
    {
      "cell_type": "code",
      "metadata": {
        "id": "pPCd41vbZEec",
        "colab_type": "code",
        "colab": {
          "base_uri": "https://localhost:8080/",
          "height": 602
        },
        "outputId": "e850a4cb-5c1a-49a9-a243-836fb7b76249"
      },
      "source": [
        "model.fit(x_train, y_train, batch_size=128, epochs=15, validation_data=(x_test, y_test), shuffle=True)"
      ],
      "execution_count": null,
      "outputs": [
        {
          "output_type": "stream",
          "text": [
            "Epoch 1/15\n",
            "391/391 [==============================] - 2s 6ms/step - loss: 1.7263 - accuracy: 0.3585 - val_loss: 1.3861 - val_accuracy: 0.5021\n",
            "Epoch 2/15\n",
            "391/391 [==============================] - 2s 5ms/step - loss: 1.3770 - accuracy: 0.5053 - val_loss: 1.1746 - val_accuracy: 0.5848\n",
            "Epoch 3/15\n",
            "391/391 [==============================] - 2s 5ms/step - loss: 1.2125 - accuracy: 0.5689 - val_loss: 1.0625 - val_accuracy: 0.6255\n",
            "Epoch 4/15\n",
            "391/391 [==============================] - 2s 5ms/step - loss: 1.0872 - accuracy: 0.6183 - val_loss: 1.0198 - val_accuracy: 0.6370\n",
            "Epoch 5/15\n",
            "391/391 [==============================] - 2s 5ms/step - loss: 0.9832 - accuracy: 0.6562 - val_loss: 1.0049 - val_accuracy: 0.6465\n",
            "Epoch 6/15\n",
            "391/391 [==============================] - 2s 5ms/step - loss: 0.8970 - accuracy: 0.6864 - val_loss: 0.8705 - val_accuracy: 0.6959\n",
            "Epoch 7/15\n",
            "391/391 [==============================] - 2s 5ms/step - loss: 0.8392 - accuracy: 0.7102 - val_loss: 0.8611 - val_accuracy: 0.6993\n",
            "Epoch 8/15\n",
            "391/391 [==============================] - 2s 5ms/step - loss: 0.7767 - accuracy: 0.7308 - val_loss: 0.7915 - val_accuracy: 0.7278\n",
            "Epoch 9/15\n",
            "391/391 [==============================] - 2s 5ms/step - loss: 0.7215 - accuracy: 0.7505 - val_loss: 0.7928 - val_accuracy: 0.7309\n",
            "Epoch 10/15\n",
            "391/391 [==============================] - 2s 5ms/step - loss: 0.6778 - accuracy: 0.7647 - val_loss: 0.7609 - val_accuracy: 0.7386\n",
            "Epoch 11/15\n",
            "391/391 [==============================] - 2s 5ms/step - loss: 0.6293 - accuracy: 0.7810 - val_loss: 0.7637 - val_accuracy: 0.7409\n",
            "Epoch 12/15\n",
            "391/391 [==============================] - 2s 5ms/step - loss: 0.5931 - accuracy: 0.7930 - val_loss: 0.8049 - val_accuracy: 0.7329\n",
            "Epoch 13/15\n",
            "391/391 [==============================] - 2s 5ms/step - loss: 0.5535 - accuracy: 0.8064 - val_loss: 0.7842 - val_accuracy: 0.7384\n",
            "Epoch 14/15\n",
            "391/391 [==============================] - 2s 5ms/step - loss: 0.5155 - accuracy: 0.8179 - val_loss: 0.7881 - val_accuracy: 0.7459\n",
            "Epoch 15/15\n",
            "391/391 [==============================] - 2s 5ms/step - loss: 0.4825 - accuracy: 0.8282 - val_loss: 0.7940 - val_accuracy: 0.7511\n"
          ],
          "name": "stdout"
        },
        {
          "output_type": "execute_result",
          "data": {
            "text/plain": [
              "<tensorflow.python.keras.callbacks.History at 0x7f70eb39b048>"
            ]
          },
          "metadata": {
            "tags": []
          },
          "execution_count": 83
        }
      ]
    },
    {
      "cell_type": "code",
      "metadata": {
        "id": "0NpnS0vG8AWy",
        "colab_type": "code",
        "colab": {}
      },
      "source": [
        "labels = '''airplane \t\t\t\t\t\t\t\t\t\t\n",
        "automobile \t\t\t\t\t\t\t\t\t\t\n",
        "bird \t\t\t\t\t\t\t\t\t\t\n",
        "cat \t\t\t\t\t\t\t\t\t\t\n",
        "deer \t\t\t\t\t\t\t\t\t\t\n",
        "dog \t\t\t\t\t\t\t\t\t\t\n",
        "frog \t\t\t\t\t\t\t\t\t\t\n",
        "horse \t\t\t\t\t\t\t\t\t\t\n",
        "ship \t\t\t\t\t\t\t\t\t\t\n",
        "truck'''.split()"
      ],
      "execution_count": null,
      "outputs": []
    },
    {
      "cell_type": "code",
      "metadata": {
        "id": "uG3wAiX-Z6De",
        "colab_type": "code",
        "colab": {}
      },
      "source": [
        "predict = np.argmax(model.predict(x_test), axis=1)\n",
        "for x in range(3):\n",
        "  sub = 1\n",
        "  counter = 1\n",
        "  plt.figure(figsize=(30, 100))\n",
        "  for i in range((x) * 10, ((x+1) * 10)):\n",
        "    plt.subplot(1, 10,  counter)\n",
        "    plt.imshow(x_test[i])\n",
        "    plt.title(\"r: \" + labels[y_test[i][0]] + ' | p: ' + labels[predict[i]])\n",
        "    counter += 1\n",
        "  plt.show()"
      ],
      "execution_count": null,
      "outputs": []
    },
    {
      "cell_type": "markdown",
      "metadata": {
        "id": "rWlORLVveaCQ",
        "colab_type": "text"
      },
      "source": [
        "# New Section"
      ]
    },
    {
      "cell_type": "code",
      "metadata": {
        "id": "eaEpLo2C_pjc",
        "colab_type": "code",
        "colab": {}
      },
      "source": [
        ""
      ],
      "execution_count": null,
      "outputs": []
    }
  ]
}