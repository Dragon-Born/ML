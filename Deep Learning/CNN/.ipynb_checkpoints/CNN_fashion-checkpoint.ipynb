{
  "nbformat": 4,
  "nbformat_minor": 0,
  "metadata": {
    "colab": {
      "name": "CNN_fashion.ipynb",
      "provenance": []
    },
    "kernelspec": {
      "name": "python3",
      "display_name": "Python 3"
    },
    "accelerator": "GPU"
  },
  "cells": [
    {
      "cell_type": "code",
      "metadata": {
        "id": "bBMXwGUMfFRT",
        "colab_type": "code",
        "colab": {}
      },
      "source": [
        "from keras.layers import Dense, MaxPool2D, Conv2D, Input, Flatten\n",
        "from keras.preprocessing.image import ImageDataGenerator\n",
        "from keras.models import Model\n",
        "from keras.utils.np_utils import to_categorical\n",
        "from keras.datasets import fashion_mnist\n",
        "import numpy as np"
      ],
      "execution_count": null,
      "outputs": []
    },
    {
      "cell_type": "code",
      "metadata": {
        "id": "3_dnHlRb0bSO",
        "colab_type": "code",
        "colab": {}
      },
      "source": [
        "batch_size = 32"
      ],
      "execution_count": null,
      "outputs": []
    },
    {
      "cell_type": "code",
      "metadata": {
        "id": "sIVKPbkcfLDa",
        "colab_type": "code",
        "colab": {}
      },
      "source": [
        "(x_train, y_train), (x_test, y_test) = fashion_mnist.load_data()\n",
        "x_train, x_test = x_train/255.0, x_test/255.0"
      ],
      "execution_count": null,
      "outputs": []
    },
    {
      "cell_type": "code",
      "metadata": {
        "id": "dKMqa_3OgMXP",
        "colab_type": "code",
        "colab": {}
      },
      "source": [
        "x_train = np.expand_dims(x_train, -1)\n",
        "x_test = np.expand_dims(x_test, -1)"
      ],
      "execution_count": null,
      "outputs": []
    },
    {
      "cell_type": "code",
      "metadata": {
        "id": "UEwa_VO5z-Na",
        "colab_type": "code",
        "colab": {}
      },
      "source": [
        "data_generator = ImageDataGenerator(width_shift_range=0.1, height_shift_range=0.1, horizontal_flip=True, vertical_flip=True)\n",
        "train_generator = data_generator.flow(x_train, y_train, batch_size=batch_size)\n",
        "steps_per_epoch = x_train[0] // batch_size"
      ],
      "execution_count": null,
      "outputs": []
    },
    {
      "cell_type": "code",
      "metadata": {
        "id": "XP-jVy0BfYkN",
        "colab_type": "code",
        "colab": {}
      },
      "source": [
        "input1 = Input((28, 28, 1))\n",
        "x = Conv2D(32, (3,3), strides=2, padding=\"valid\", activation=\"relu\")(input1)\n",
        "x = Conv2D(64, (3,3), strides=2, padding=\"valid\", activation=\"relu\")(x)\n",
        "x = Conv2D(128, (3,3), strides=2, padding=\"valid\", activation=\"relu\")(x)\n",
        "x = Flatten()(x)\n",
        "x = Dense(512, activation=\"relu\")(x)\n",
        "x = Dense(30, activation=\"relu\")(x)\n",
        "x = Dense(10, activation=\"softmax\")(x)"
      ],
      "execution_count": null,
      "outputs": []
    },
    {
      "cell_type": "code",
      "metadata": {
        "id": "OWVW63RngoeK",
        "colab_type": "code",
        "colab": {}
      },
      "source": [
        "model = Model(input1, x)\n",
        "model.compile(optimizer=\"adam\", loss=\"sparse_categorical_crossentropy\", metrics=['accuracy'])"
      ],
      "execution_count": null,
      "outputs": []
    },
    {
      "cell_type": "code",
      "metadata": {
        "id": "_ocETwMWgyLh",
        "colab_type": "code",
        "colab": {
          "base_uri": "https://localhost:8080/",
          "height": 413
        },
        "outputId": "6b4846b0-55b6-412a-dabe-2eb95ae6e6d6"
      },
      "source": [
        "model.fit_generator(train_generator, epochs=10, validation_data=(x_test, y_test))"
      ],
      "execution_count": null,
      "outputs": [
        {
          "output_type": "stream",
          "text": [
            "Epoch 1/10\n",
            "1875/1875 [==============================] - 23s 12ms/step - loss: 0.7970 - accuracy: 0.6941 - val_loss: 0.6172 - val_accuracy: 0.7635\n",
            "Epoch 2/10\n",
            "1875/1875 [==============================] - 23s 12ms/step - loss: 0.5762 - accuracy: 0.7801 - val_loss: 0.5043 - val_accuracy: 0.8087\n",
            "Epoch 3/10\n",
            "1875/1875 [==============================] - 23s 12ms/step - loss: 0.5111 - accuracy: 0.8047 - val_loss: 0.5281 - val_accuracy: 0.8032\n",
            "Epoch 4/10\n",
            "1875/1875 [==============================] - 23s 12ms/step - loss: 0.4761 - accuracy: 0.8215 - val_loss: 0.4319 - val_accuracy: 0.8369\n",
            "Epoch 5/10\n",
            "1875/1875 [==============================] - 23s 12ms/step - loss: 0.4496 - accuracy: 0.8310 - val_loss: 0.4621 - val_accuracy: 0.8282\n",
            "Epoch 6/10\n",
            "1875/1875 [==============================] - 22s 12ms/step - loss: 0.4326 - accuracy: 0.8373 - val_loss: 0.4588 - val_accuracy: 0.8259\n",
            "Epoch 7/10\n",
            "1875/1875 [==============================] - 22s 12ms/step - loss: 0.4153 - accuracy: 0.8442 - val_loss: 0.3930 - val_accuracy: 0.8551\n",
            "Epoch 8/10\n",
            "1875/1875 [==============================] - 22s 12ms/step - loss: 0.4068 - accuracy: 0.8492 - val_loss: 0.4482 - val_accuracy: 0.8398\n",
            "Epoch 9/10\n",
            "1875/1875 [==============================] - 22s 12ms/step - loss: 0.3940 - accuracy: 0.8520 - val_loss: 0.3871 - val_accuracy: 0.8549\n",
            "Epoch 10/10\n",
            "1875/1875 [==============================] - 23s 12ms/step - loss: 0.3874 - accuracy: 0.8556 - val_loss: 0.3581 - val_accuracy: 0.8673\n"
          ],
          "name": "stdout"
        },
        {
          "output_type": "execute_result",
          "data": {
            "text/plain": [
              "<tensorflow.python.keras.callbacks.History at 0x7f33ea211470>"
            ]
          },
          "metadata": {
            "tags": []
          },
          "execution_count": 78
        }
      ]
    },
    {
      "cell_type": "code",
      "metadata": {
        "id": "kbcSGCn5gzog",
        "colab_type": "code",
        "colab": {}
      },
      "source": [
        ""
      ],
      "execution_count": null,
      "outputs": []
    },
    {
      "cell_type": "code",
      "metadata": {
        "id": "nsxd3mbz4Uay",
        "colab_type": "code",
        "colab": {}
      },
      "source": [
        ""
      ],
      "execution_count": null,
      "outputs": []
    },
    {
      "cell_type": "code",
      "metadata": {
        "id": "0nXWgla94aCY",
        "colab_type": "code",
        "colab": {}
      },
      "source": [
        ""
      ],
      "execution_count": null,
      "outputs": []
    }
  ]
}