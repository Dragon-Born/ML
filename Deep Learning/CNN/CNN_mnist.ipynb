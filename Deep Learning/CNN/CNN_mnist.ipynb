{
 "cells": [
  {
   "cell_type": "code",
   "execution_count": 23,
   "metadata": {},
   "outputs": [],
   "source": [
    "import tensorflow as tf\n",
    "import numpy as np\n",
    "import matplotlib.pyplot as plt\n",
    "import pandas as pd\n",
    "from keras.utils.np_utils import to_categorical\n",
    "from keras.models import Sequential, Model\n",
    "from keras.layers import Dense, Dropout, Conv2D, MaxPool2D, Input, Flatten\n",
    "from keras.datasets import mnist"
   ]
  },
  {
   "cell_type": "code",
   "execution_count": 24,
   "metadata": {},
   "outputs": [],
   "source": [
    "mnist = mnist.load_data()"
   ]
  },
  {
   "cell_type": "code",
   "execution_count": 35,
   "metadata": {},
   "outputs": [],
   "source": [
    "(x_train, y_train), (x_test, y_test) = mnist"
   ]
  },
  {
   "cell_type": "code",
   "execution_count": 36,
   "metadata": {},
   "outputs": [],
   "source": [
    "x_train = x_train.reshape(x_train.shape[0], \n",
    "                          x_train.shape[1],\n",
    "                          x_train.shape[2], \n",
    "                          1).astype(\"float32\")\n",
    "x_test = x_test.reshape(x_test.shape[0], \n",
    "                        x_test.shape[1],\n",
    "                        x_test.shape[2], \n",
    "                        1).astype(\"float32\")\n",
    "x_train /= x_train.max()\n",
    "x_test /= x_test.max()"
   ]
  },
  {
   "cell_type": "code",
   "execution_count": 37,
   "metadata": {},
   "outputs": [],
   "source": [
    "y_train = to_categorical(y_train)\n",
    "y_test = to_categorical(y_test)"
   ]
  },
  {
   "cell_type": "code",
   "execution_count": 38,
   "metadata": {},
   "outputs": [],
   "source": [
    "input1 = Input((28, 28, 1))\n",
    "conv1 = Conv2D(16, (3, 3), activation=\"relu\", padding=\"same\", strides=2)(input1)\n",
    "#pool1 = MaxPool2D(pool_size=2)(conv1)\n",
    "conv2 = Conv2D(32, (3, 3), activation=\"relu\", padding=\"same\", strides=2)(conv1)\n",
    "#pool2 = MaxPool2D(pool_size=2)(conv2)\n",
    "flat = Flatten()(conv2)\n",
    "output = Dense(10, activation='softmax')(flat)"
   ]
  },
  {
   "cell_type": "code",
   "execution_count": 39,
   "metadata": {},
   "outputs": [],
   "source": [
    "model = Model(input1, output)"
   ]
  },
  {
   "cell_type": "code",
   "execution_count": 40,
   "metadata": {},
   "outputs": [
    {
     "name": "stdout",
     "output_type": "stream",
     "text": [
      "_________________________________________________________________\n",
      "Layer (type)                 Output Shape              Param #   \n",
      "=================================================================\n",
      "input_4 (InputLayer)         (None, 28, 28, 1)         0         \n",
      "_________________________________________________________________\n",
      "conv2d_7 (Conv2D)            (None, 14, 14, 16)        160       \n",
      "_________________________________________________________________\n",
      "conv2d_8 (Conv2D)            (None, 7, 7, 32)          4640      \n",
      "_________________________________________________________________\n",
      "flatten_4 (Flatten)          (None, 1568)              0         \n",
      "_________________________________________________________________\n",
      "dense_4 (Dense)              (None, 10)                15690     \n",
      "=================================================================\n",
      "Total params: 20,490\n",
      "Trainable params: 20,490\n",
      "Non-trainable params: 0\n",
      "_________________________________________________________________\n"
     ]
    }
   ],
   "source": [
    "model.summary()"
   ]
  },
  {
   "cell_type": "code",
   "execution_count": 41,
   "metadata": {},
   "outputs": [],
   "source": [
    "model.compile(\"Adam\", loss=\"categorical_crossentropy\", metrics=['accuracy'])"
   ]
  },
  {
   "cell_type": "code",
   "execution_count": 42,
   "metadata": {},
   "outputs": [
    {
     "name": "stdout",
     "output_type": "stream",
     "text": [
      "Train on 48000 samples, validate on 12000 samples\n",
      "Epoch 1/10\n",
      "48000/48000 [==============================] - 7s 150us/step - loss: 0.4868 - acc: 0.8690 - val_loss: 0.2356 - val_acc: 0.9338\n",
      "Epoch 2/10\n",
      "48000/48000 [==============================] - 5s 100us/step - loss: 0.2007 - acc: 0.9415 - val_loss: 0.1463 - val_acc: 0.9602\n",
      "Epoch 3/10\n",
      "48000/48000 [==============================] - 5s 97us/step - loss: 0.1280 - acc: 0.9624 - val_loss: 0.1083 - val_acc: 0.9691\n",
      "Epoch 4/10\n",
      "48000/48000 [==============================] - 5s 98us/step - loss: 0.0959 - acc: 0.9718 - val_loss: 0.1035 - val_acc: 0.9714\n",
      "Epoch 5/10\n",
      "48000/48000 [==============================] - 5s 95us/step - loss: 0.0799 - acc: 0.9759 - val_loss: 0.0827 - val_acc: 0.9758\n",
      "Epoch 6/10\n",
      "48000/48000 [==============================] - 5s 97us/step - loss: 0.0690 - acc: 0.9790 - val_loss: 0.0766 - val_acc: 0.9773\n",
      "Epoch 7/10\n",
      "48000/48000 [==============================] - 5s 98us/step - loss: 0.0598 - acc: 0.9816 - val_loss: 0.0785 - val_acc: 0.9783\n",
      "Epoch 8/10\n",
      "48000/48000 [==============================] - 5s 98us/step - loss: 0.0538 - acc: 0.9833 - val_loss: 0.0679 - val_acc: 0.9809\n",
      "Epoch 9/10\n",
      "48000/48000 [==============================] - 5s 95us/step - loss: 0.0480 - acc: 0.9851 - val_loss: 0.0725 - val_acc: 0.9800\n",
      "Epoch 10/10\n",
      "48000/48000 [==============================] - 5s 97us/step - loss: 0.0440 - acc: 0.9862 - val_loss: 0.0699 - val_acc: 0.9804\n"
     ]
    }
   ],
   "source": [
    "history = model.fit(x_train, y_train, batch_size=128, epochs=10, validation_split=0.2)"
   ]
  },
  {
   "cell_type": "code",
   "execution_count": 12,
   "metadata": {},
   "outputs": [
    {
     "data": {
      "image/png": "[encoded data removed]",
      "text/plain": [
       "<matplotlib.figure.Figure at 0x7fa39b3d7220>"
      ]
     },
     "metadata": {
      "needs_background": "light"
     },
     "output_type": "display_data"
    }
   ],
   "source": [
    "plt.subplot(121)\n",
    "plt.plot(history.history['loss'])\n",
    "plt.plot(history.history['val_loss'])\n",
    "plt.xlabel('Epochs')\n",
    "plt.ylabel(\"Accuracy\")\n",
    "plt.legend(['loss', 'val_loss'])\n",
    "plt.subplot(122)\n",
    "plt.plot(history.history['acc'])\n",
    "plt.plot(history.history['val_acc'])\n",
    "plt.xlabel('Epochs')\n",
    "plt.ylabel(\"Accuracy\")\n",
    "plt.legend(['accuracy', 'val_accuracy'])\n",
    "plt.show()"
   ]
  },
  {
   "cell_type": "code",
   "execution_count": 13,
   "metadata": {},
   "outputs": [
    {
     "data": {
      "text/plain": [
       "array([[1.03736854e-12, 2.96321843e-12, 2.06458264e-08, ...,\n",
       "        9.99954224e-01, 7.15784125e-08, 1.29935657e-07],\n",
       "       [4.38446640e-11, 3.16369415e-06, 9.99996066e-01, ...,\n",
       "        3.13114332e-16, 1.29684363e-09, 1.05806036e-13],\n",
       "       [6.00887324e-06, 9.98536706e-01, 8.99080624e-05, ...,\n",
       "        5.61733323e-04, 6.31454983e-04, 5.61213392e-06],\n",
       "       ...,\n",
       "       [1.45452953e-12, 2.54088217e-09, 3.61298166e-12, ...,\n",
       "        3.13316173e-06, 2.17637808e-06, 4.28547446e-06],\n",
       "       [3.41993849e-13, 3.75656300e-14, 4.33798268e-14, ...,\n",
       "        2.92662700e-11, 5.34756009e-06, 8.96355268e-10],\n",
       "       [9.79373613e-12, 2.40998301e-15, 2.58462247e-08, ...,\n",
       "        1.64368427e-15, 7.73202447e-10, 8.90494479e-14]], dtype=float32)"
      ]
     },
     "execution_count": 13,
     "metadata": {},
     "output_type": "execute_result"
    }
   ],
   "source": [
    "test_lables_p = model.predict(x_test)\n",
    "test_lables_p"
   ]
  },
  {
   "cell_type": "code",
   "execution_count": 26,
   "metadata": {},
   "outputs": [],
   "source": [
    "df = pd.DataFrame(np.argmax(test_lables_p, axis=1))"
   ]
  },
  {
   "cell_type": "code",
   "execution_count": 31,
   "metadata": {},
   "outputs": [],
   "source": [
    "df['y']= np.argmax(y_test, axis=1)"
   ]
  },
  {
   "cell_type": "code",
   "execution_count": 41,
   "metadata": {},
   "outputs": [
    {
     "data": {
      "text/plain": [
       "115     5\n",
       "247    -2\n",
       "321     5\n",
       "409     7\n",
       "421    -2\n",
       "       ..\n",
       "9811    6\n",
       "9839    1\n",
       "9904    6\n",
       "9905    6\n",
       "9982    1\n",
       "Length: 171, dtype: int64"
      ]
     },
     "execution_count": 41,
     "metadata": {},
     "output_type": "execute_result"
    }
   ],
   "source": [
    "(df[0] - df['y'])[((df[0] - df['y']) != 0)]"
   ]
  },
  {
   "cell_type": "code",
   "execution_count": null,
   "metadata": {},
   "outputs": [],
   "source": []
  }
 ],
 "metadata": {
  "kernelspec": {
   "display_name": "Python 3",
   "language": "python",
   "name": "python3"
  },
  "language_info": {
   "codemirror_mode": {
    "name": "ipython",
    "version": 3
   },
   "file_extension": ".py",
   "mimetype": "text/x-python",
   "name": "python",
   "nbconvert_exporter": "python",
   "pygments_lexer": "ipython3",
   "version": "3.8.3"
  }
 },
 "nbformat": 4,
 "nbformat_minor": 4
}
