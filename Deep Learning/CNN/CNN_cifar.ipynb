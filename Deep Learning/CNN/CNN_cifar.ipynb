{
 "cells": [
  {
   "cell_type": "code",
   "execution_count": 1,
   "metadata": {
    "colab": {},
    "colab_type": "code",
    "id": "d4cbNoiaUB0P"
   },
   "outputs": [
    {
     "name": "stderr",
     "output_type": "stream",
     "text": [
      "Using plaidml.keras.backend backend.\n"
     ]
    }
   ],
   "source": [
    "from keras.layers import Dense, MaxPool3D, MaxPool2D, Conv2D, Input, Flatten, GlobalMaxPool2D ,Dropout\n",
    "from keras.preprocessing.image import ImageDataGenerator\n",
    "from keras.models import Model\n",
    "from keras.utils.np_utils import to_categorical\n",
    "from keras.datasets import cifar10, fashion_mnist\n",
    "import numpy as np\n",
    "import matplotlib.pyplot as plt"
   ]
  },
  {
   "cell_type": "code",
   "execution_count": 2,
   "metadata": {
    "colab": {},
    "colab_type": "code",
    "id": "lfheIPXGUIAW"
   },
   "outputs": [],
   "source": [
    "(x_train, y_train), (x_test, y_test) = cifar10.load_data()\n",
    "x_train, x_test = x_train/255.0, x_test/255.0"
   ]
  },
  {
   "cell_type": "code",
   "execution_count": 3,
   "metadata": {
    "colab": {},
    "colab_type": "code",
    "id": "1gM4wa9BYf2Z"
   },
   "outputs": [],
   "source": [
    "# data_generator = ImageDataGenerator(horizontal_flip=True,)"
   ]
  },
  {
   "cell_type": "code",
   "execution_count": 4,
   "metadata": {
    "colab": {},
    "colab_type": "code",
    "id": "ax3JnkbvUu8Y"
   },
   "outputs": [
    {
     "name": "stderr",
     "output_type": "stream",
     "text": [
      "INFO:plaidml:Opening device \"metal_amd_radeon_pro_555x.0\"\n"
     ]
    }
   ],
   "source": [
    "input1 = Input((32, 32, 3))\n",
    "x = Conv2D(32, (3,3), padding=\"same\", activation=\"relu\")(input1)\n",
    "x = MaxPool2D(2)(x)\n",
    "x = Conv2D(32, (3,3), padding=\"same\", activation=\"relu\")(input1)\n",
    "x = MaxPool2D(2)(x)\n",
    "x = Conv2D(32, (3,3), padding=\"same\", activation=\"relu\")(x)\n",
    "x = MaxPool2D(2)(x)\n",
    "x = Conv2D(64, (3,3), padding=\"same\", activation=\"relu\")(x)\n",
    "x = MaxPool2D(2)(x)\n",
    "x = Conv2D(128, (3,3), padding=\"same\", activation=\"relu\")(x)\n",
    "\n",
    "\n",
    "\n",
    "x = Flatten()(x)\n",
    "x = Dense(64, activation=\"relu\")(x)\n",
    "x = Dropout(0.3)(x)\n",
    "x = Dense(10, activation=\"softmax\")(x)"
   ]
  },
  {
   "cell_type": "code",
   "execution_count": 5,
   "metadata": {
    "colab": {},
    "colab_type": "code",
    "id": "URRMNxMdYoMt"
   },
   "outputs": [],
   "source": [
    "\n",
    "\n",
    "\n",
    "model = Model(input1, x)\n",
    "model.compile(optimizer=\"adam\", loss=\"sparse_categorical_crossentropy\", metrics=['accuracy'])"
   ]
  },
  {
   "cell_type": "code",
   "execution_count": null,
   "metadata": {
    "colab": {
     "base_uri": "https://localhost:8080/",
     "height": 602
    },
    "colab_type": "code",
    "id": "pPCd41vbZEec",
    "outputId": "e850a4cb-5c1a-49a9-a243-836fb7b76249"
   },
   "outputs": [
    {
     "name": "stdout",
     "output_type": "stream",
     "text": [
      "Train on 50000 samples, validate on 10000 samples\n",
      "Epoch 1/15\n",
      "50000/50000 [==============================] - 61s 1ms/step - loss: 1.7234 - acc: 0.3592 - val_loss: 1.3926 - val_acc: 0.5022\n",
      "Epoch 2/15\n",
      "50000/50000 [==============================] - 52s 1ms/step - loss: 1.3667 - acc: 0.5051 - val_loss: 1.1504 - val_acc: 0.5859\n",
      "Epoch 3/15\n",
      "50000/50000 [==============================] - 53s 1ms/step - loss: 1.1847 - acc: 0.5790 - val_loss: 1.0858 - val_acc: 0.6158\n",
      "Epoch 4/15\n",
      "50000/50000 [==============================] - 52s 1ms/step - loss: 1.0638 - acc: 0.6248 - val_loss: 0.9576 - val_acc: 0.6653\n",
      "Epoch 5/15\n",
      "50000/50000 [==============================] - 52s 1ms/step - loss: 0.9593 - acc: 0.6665 - val_loss: 0.9141 - val_acc: 0.6824\n",
      "Epoch 6/15\n",
      "50000/50000 [==============================] - 53s 1ms/step - loss: 0.8843 - acc: 0.6930 - val_loss: 0.8840 - val_acc: 0.6936\n",
      "Epoch 7/15\n",
      "50000/50000 [==============================] - 53s 1ms/step - loss: 0.8246 - acc: 0.7134 - val_loss: 0.8661 - val_acc: 0.7022\n",
      "Epoch 8/15\n",
      "50000/50000 [==============================] - 52s 1ms/step - loss: 0.7600 - acc: 0.7362 - val_loss: 0.8297 - val_acc: 0.7170\n",
      "Epoch 9/15\n",
      "50000/50000 [==============================] - 52s 1ms/step - loss: 0.7060 - acc: 0.7549 - val_loss: 0.7955 - val_acc: 0.7265\n",
      "Epoch 10/15\n",
      "50000/50000 [==============================] - 53s 1ms/step - loss: 0.6579 - acc: 0.7718 - val_loss: 0.8133 - val_acc: 0.7215\n",
      "Epoch 11/15\n",
      "50000/50000 [==============================] - 53s 1ms/step - loss: 0.6158 - acc: 0.7850 - val_loss: 0.8242 - val_acc: 0.7351\n",
      "Epoch 12/15\n",
      "13824/50000 [=======>......................] - ETA: 37s - loss: 0.5545 - acc: 0.8064"
     ]
    }
   ],
   "source": [
    "model.fit(x_train, y_train, batch_size=128, epochs=15, validation_data=(x_test, y_test), shuffle=True)"
   ]
  },
  {
   "cell_type": "code",
   "execution_count": null,
   "metadata": {
    "colab": {},
    "colab_type": "code",
    "id": "0NpnS0vG8AWy"
   },
   "outputs": [],
   "source": [
    "labels = '''airplane \t\t\t\t\t\t\t\t\t\t\n",
    "automobile \t\t\t\t\t\t\t\t\t\t\n",
    "bird \t\t\t\t\t\t\t\t\t\t\n",
    "cat \t\t\t\t\t\t\t\t\t\t\n",
    "deer \t\t\t\t\t\t\t\t\t\t\n",
    "dog \t\t\t\t\t\t\t\t\t\t\n",
    "frog \t\t\t\t\t\t\t\t\t\t\n",
    "horse \t\t\t\t\t\t\t\t\t\t\n",
    "ship \t\t\t\t\t\t\t\t\t\t\n",
    "truck'''.split()"
   ]
  },
  {
   "cell_type": "code",
   "execution_count": null,
   "metadata": {
    "colab": {},
    "colab_type": "code",
    "id": "uG3wAiX-Z6De"
   },
   "outputs": [],
   "source": [
    "predict = np.argmax(model.predict(x_test), axis=1)\n",
    "for x in range(3):\n",
    "  sub = 1\n",
    "  counter = 1\n",
    "  plt.figure(figsize=(30, 100))\n",
    "  for i in range((x) * 10, ((x+1) * 10)):\n",
    "    plt.subplot(1, 10,  counter)\n",
    "    plt.imshow(x_test[i])\n",
    "    plt.title(\"r: \" + labels[y_test[i][0]] + ' | p: ' + labels[predict[i]])\n",
    "    counter += 1\n",
    "  plt.show()"
   ]
  }
 ],
 "metadata": {
  "accelerator": "GPU",
  "colab": {
   "name": "CNN_cifar.ipynb",
   "provenance": []
  },
  "kernelspec": {
   "display_name": "Python 3",
   "language": "python",
   "name": "python3"
  },
  "language_info": {
   "codemirror_mode": {
    "name": "ipython",
    "version": 3
   },
   "file_extension": ".py",
   "mimetype": "text/x-python",
   "name": "python",
   "nbconvert_exporter": "python",
   "pygments_lexer": "ipython3",
   "version": "3.8.3"
  }
 },
 "nbformat": 4,
 "nbformat_minor": 4
}
