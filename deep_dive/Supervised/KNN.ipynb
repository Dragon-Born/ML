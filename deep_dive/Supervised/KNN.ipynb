{
 "cells": [
  {
   "cell_type": "code",
   "execution_count": 149,
   "metadata": {},
   "outputs": [],
   "source": [
    "import numpy as np\n",
    "import handcalcs.render\n",
    "import matplotlib.pyplot as plt\n",
    "import warnings\n",
    "from collections import Counter"
   ]
  },
  {
   "cell_type": "markdown",
   "metadata": {},
   "source": [
    "dar KNN fasele ha bar asase chand algorithm mohasebe mishe ke yeki az oona fasele oghlidosi (euclidean distance) hast ke vaseye 2bod formoolesh ine:\n"
   ]
  },
  {
   "cell_type": "code",
   "execution_count": 41,
   "metadata": {},
   "outputs": [],
   "source": [
    "def euclidean_distance(x: np.array, y: np.array):\n",
    "    # return np.math.sqrt( sum( (y-x)**2 ) )  # this is my way to calculate euclidean distance. but it's better and faster to use np.linalg.norm\n",
    "     return np.linalg.norm(x - y)\n",
    "    "
   ]
  },
  {
   "cell_type": "code",
   "execution_count": 26,
   "metadata": {},
   "outputs": [
    {
     "data": {
      "text/plain": [
       "2.23606797749979"
      ]
     },
     "execution_count": 26,
     "metadata": {},
     "output_type": "execute_result"
    }
   ],
   "source": [
    "euclidean_distance(np.array([1,3]), np.array([2,5]))"
   ]
  },
  {
   "cell_type": "code",
   "execution_count": 166,
   "metadata": {},
   "outputs": [
    {
     "data": {
      "image/png": "[encoded data removed]",
      "text/plain": [
       "<Figure size 432x288 with 1 Axes>"
      ]
     },
     "metadata": {
      "needs_background": "light"
     },
     "output_type": "display_data"
    }
   ],
   "source": [
    "dataset = {\"k\": [[1,2], [2,3], [3,1]], 'r': [[6,5], [7, 7], [8, 6]]}  # 2 no target darim \"r\" va \"k\"\n",
    "\n",
    "new_data = [7, 5]\n",
    "# rasm bokonim mishe in\n",
    "for target in dataset:\n",
    "    for data in dataset[target]:\n",
    "        plt.scatter(data[0], data[1], c=target)\n",
    "\n",
    "plt.scatter(new_data[0], new_data[1]) # -> in data bayad joze kodoom daste (target) bashe?\n",
    "plt.show()\n"
   ]
  },
  {
   "cell_type": "code",
   "execution_count": 193,
   "metadata": {},
   "outputs": [],
   "source": [
    "class KNN:\n",
    "    \"\"\"KNN Classification only for 2D features Datasets\"\"\"\n",
    "    def __init__(self, k=3, algorithm=\"euclidean\"):\n",
    "        self.k = k\n",
    "        self.algorithm = algorithm\n",
    "        self.data_features = None\n",
    "    \n",
    "    def fit(self, data, target):\n",
    "        if len(set(target)) > self.k:\n",
    "            warnings.warn(\"no haye target hat az K hat bishtare\")\n",
    "        if len(data[0]) != len(target):\n",
    "            raise Exception(\"tedade data ha ba target ha yeksan nist\")\n",
    "        new_data = {}\n",
    "        new_features = np.array(list(zip(data[0], data[1])))\n",
    "        for i, k in enumerate(target):\n",
    "            if k in new_data: \n",
    "                new_data[k].append(new_features[i])\n",
    "            else:\n",
    "                new_data[k] = [new_features[i]]\n",
    "        self.data_features = new_data\n",
    "        \n",
    "    def predict(self, new_feature):\n",
    "        distances = []\n",
    "        for group in self.data_features:\n",
    "            for feature in self.data_features[group]:\n",
    "                distances.append([euclidean_distance(feature, new_feature), group])\n",
    "\n",
    "                \n",
    "        return Counter([i[1] for i in sorted(distances)[:self.k]]).most_common(1)[0][0]"
   ]
  },
  {
   "cell_type": "code",
   "execution_count": 194,
   "metadata": {},
   "outputs": [
    {
     "data": {
      "image/png": "[encoded data removed]",
      "text/plain": [
       "<Figure size 720x360 with 2 Axes>"
      ]
     },
     "metadata": {
      "needs_background": "light"
     },
     "output_type": "display_data"
    }
   ],
   "source": [
    "x_train = np.array([[1,2, 3, 6, 7, 8], [2, 3, 1, 5, 7, 6]])\n",
    "y_train = np.array([\"k\", \"k\", \"k\", \"r\", \"r\", \"r\"])\n",
    "\n",
    "knn = KNN()\n",
    "new_data = [7, 5]\n",
    "# az rooye nemoodar mifahmim ke new_data bayad joze dasteye \"r\" bashe\n",
    "\n",
    "knn.fit(x_train, y_train)\n",
    "\n",
    "plt.figure(figsize=(10, 5))\n",
    "plt.subplot(1, 2, 1)\n",
    "plt.scatter(x_train[0], x_train[1], c=y_train)\n",
    "plt.scatter(new_data[0], new_data[1])\n",
    "plt.subplot(1, 2, 2)\n",
    "plt.scatter(x_train[0], x_train[1], c=y_train)\n",
    "plt.scatter(new_data[0], new_data[1], c=knn.predict(new_data))\n",
    "plt.show()\n",
    "\n",
    "\n"
   ]
  },
  {
   "cell_type": "code",
   "execution_count": 188,
   "metadata": {},
   "outputs": [],
   "source": [
    "# we made it"
   ]
  }
 ],
 "metadata": {
  "kernelspec": {
   "display_name": "Python 3",
   "language": "python",
   "name": "python3"
  },
  "language_info": {
   "codemirror_mode": {
    "name": "ipython",
    "version": 3
   },
   "file_extension": ".py",
   "mimetype": "text/x-python",
   "name": "python",
   "nbconvert_exporter": "python",
   "pygments_lexer": "ipython3",
   "version": "3.8.3"
  }
 },
 "nbformat": 4,
 "nbformat_minor": 4
}
