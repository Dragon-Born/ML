{
 "cells": [
  {
   "cell_type": "code",
   "execution_count": 1,
   "metadata": {},
   "outputs": [],
   "source": [
    "import matplotlib.pyplot as plt\n",
    "import numpy as np"
   ]
  },
  {
   "cell_type": "code",
   "execution_count": 2,
   "metadata": {},
   "outputs": [],
   "source": [
    "data_dict = {-1: np.array([[1,7],\n",
    "                           [2, 8],\n",
    "                           [3, 8]]), \n",
    "             +1: np.array([[5,1],\n",
    "                           [6,-1], \n",
    "                           [7,3]])}"
   ]
  },
  {
   "cell_type": "code",
   "execution_count": null,
   "metadata": {},
   "outputs": [],
   "source": []
  },
  {
   "cell_type": "code",
   "execution_count": 48,
   "metadata": {},
   "outputs": [],
   "source": [
    "class SVM:\n",
    "    def __init__(self): \n",
    "        self.w = None\n",
    "        self.b = None\n",
    "        self.data = None\n",
    "    \n",
    "    def fit(self, data):\n",
    "        self.data = data\n",
    "        # {||w|| : [w,b]}\n",
    "        opt_dict = {}\n",
    "        transforms = [[1, 1],\n",
    "                      [-1, 1],\n",
    "                      [-1, -1],\n",
    "                      [1, -1]]\n",
    "        \n",
    "        all_data = []\n",
    "        for yi in self.data:\n",
    "            for featureset in self.data[yi]:\n",
    "                for feature in featureset:\n",
    "                    all_data.append(feature)\n",
    "        self.max_feature_value = max(all_data)\n",
    "        self.min_feature_value = min(all_data)\n",
    "        all_data = None\n",
    "        step_sizes = [self.max_feature_value * 0.1,\n",
    "                     self.max_feature_value * 0.01\n",
    "                    ]\n",
    "        b_range_multiple = 5\n",
    "        b_multiple = 5\n",
    "        latest_optimum = self.max_feature_value * 10\n",
    "        for step in step_sizes:\n",
    "            w = np.array([latest_optimum, latest_optimum])\n",
    "            optimized = False\n",
    "            while not optimized:\n",
    "                for b in np.arange(-1* self.max_feature_value*b_range_multiple, \n",
    "                                   self.max_feature_value * b_range_multiple, \n",
    "                                   step * b_multiple):\n",
    "                    for transformation in transforms:\n",
    "                        w_t = w*transformation\n",
    "                        found_option = True\n",
    "                        for i in self.data:\n",
    "                            for xi in self.data[i]:\n",
    "                                yi = i\n",
    "                                if not yi*(np.dot(w_t, xi) + b) >=1:\n",
    "                                    found_option = False\n",
    "                                    break\n",
    "                        if found_option:\n",
    "                            opt_dict[np.linalg.norm(w_t)] = [w_t, b]\n",
    "                if w[0] < 0:\n",
    "                    optimized = True\n",
    "                    print(\"Optimized a Step\")\n",
    "                else:\n",
    "                    w = w - step\n",
    "        norms = sorted([n for n in opt_dict])\n",
    "        opt_choice = opt_dict[norms[0]]\n",
    "        self.w = opt_choice[0]\n",
    "        self.b = opt_choice[1]\n",
    "        latest_optimum = opt_choice[0][0] + step * 2\n",
    "                    \n",
    "        \n",
    "    \n",
    "    def predict(self, features):\n",
    "        classification = np.sign(np.dot(np.array(features),\n",
    "                                       self.w) + self.b)\n",
    "        return int(classification)"
   ]
  },
  {
   "cell_type": "code",
   "execution_count": 49,
   "metadata": {},
   "outputs": [
    {
     "name": "stdout",
     "output_type": "stream",
     "text": [
      "Optimized a Step\n",
      "Optimized a Step\n"
     ]
    }
   ],
   "source": [
    "our_svm = SVM()\n",
    "our_svm.fit(data_dict)"
   ]
  },
  {
   "cell_type": "code",
   "execution_count": 50,
   "metadata": {},
   "outputs": [
    {
     "name": "stderr",
     "output_type": "stream",
     "text": [
      "/Library/Frameworks/Python.framework/Versions/3.8/lib/python3.8/site-packages/sklearn/svm/base.py:189: FutureWarning: The default value of gamma will change from 'auto' to 'scale' in version 0.22 to account better for unscaled features. Set gamma explicitly to 'auto' or 'scale' to avoid this warning.\n",
      "  warnings.warn(\"The default value of gamma will change \"\n"
     ]
    },
    {
     "data": {
      "text/plain": [
       "SVC(C=1.0, cache_size=200, class_weight=None, coef0=0.0,\n",
       "    decision_function_shape='ovr', degree=3, gamma='auto_deprecated',\n",
       "    kernel='rbf', max_iter=-1, probability=False, random_state=None,\n",
       "    shrinking=True, tol=0.001, verbose=False)"
      ]
     },
     "execution_count": 50,
     "metadata": {},
     "output_type": "execute_result"
    }
   ],
   "source": [
    "from sklearn.svm import SVC\n",
    "data_dict = {-1: np.array([[1,7],\n",
    "                           [2, 8],\n",
    "                           [3, 8]]), \n",
    "             +1: np.array([[5,1],\n",
    "                           [6,-1], \n",
    "                           [7,3]])}\n",
    "sk_svm = SVC()\n",
    "sk_svm.fit([[1,7],[2,8],[3,8],[5,1],[6,-1],[7,3]], [-1, -1, -1, 1, 1, 1])"
   ]
  },
  {
   "cell_type": "code",
   "execution_count": 56,
   "metadata": {},
   "outputs": [
    {
     "name": "stdout",
     "output_type": "stream",
     "text": [
      "-1\n",
      "[1]\n"
     ]
    }
   ],
   "source": [
    "print(our_svm.predict([1,4]))\n",
    "print(sk_svm.predict([[1,4]]))"
   ]
  },
  {
   "cell_type": "code",
   "execution_count": null,
   "metadata": {},
   "outputs": [],
   "source": []
  }
 ],
 "metadata": {
  "kernelspec": {
   "display_name": "Python 3",
   "language": "python",
   "name": "python3"
  },
  "language_info": {
   "codemirror_mode": {
    "name": "ipython",
    "version": 3
   },
   "file_extension": ".py",
   "mimetype": "text/x-python",
   "name": "python",
   "nbconvert_exporter": "python",
   "pygments_lexer": "ipython3",
   "version": "3.8.3"
  }
 },
 "nbformat": 4,
 "nbformat_minor": 4
}
